{
  "nbformat": 4,
  "nbformat_minor": 0,
  "metadata": {
    "colab": {
      "provenance": [],
      "mount_file_id": "1OLVsLbg9YoPwsg1tZtFnzxyzljS6qja9",
      "authorship_tag": "ABX9TyMNIQw7z4Gg/r+tr5QZJ2kz",
      "include_colab_link": true
    },
    "kernelspec": {
      "name": "python3",
      "display_name": "Python 3"
    },
    "language_info": {
      "name": "python"
    }
  },
  "cells": [
    {
      "cell_type": "markdown",
      "metadata": {
        "id": "view-in-github",
        "colab_type": "text"
      },
      "source": [
        "<a href=\"https://colab.research.google.com/github/ciouyu/generative_ai/blob/main/Hw7/Hw7_1_DataConverter1.ipynb\" target=\"_parent\"><img src=\"https://colab.research.google.com/assets/colab-badge.svg\" alt=\"Open In Colab\"/></a>"
      ]
    },
    {
      "cell_type": "code",
      "source": [
        "!ls"
      ],
      "metadata": {
        "colab": {
          "base_uri": "https://localhost:8080/"
        },
        "id": "mhIQjkmfBJMD",
        "outputId": "64170f62-614f-4076-8e1d-3e4b566d8564"
      },
      "execution_count": null,
      "outputs": [
        {
          "output_type": "stream",
          "name": "stdout",
          "text": [
            "drive  sample_data\n"
          ]
        }
      ]
    },
    {
      "cell_type": "code",
      "execution_count": null,
      "metadata": {
        "colab": {
          "base_uri": "https://localhost:8080/"
        },
        "id": "de3sKD0g3EwY",
        "outputId": "fb05c87e-89b9-43e8-fef8-8c6172806d0a"
      },
      "outputs": [
        {
          "output_type": "stream",
          "name": "stdout",
          "text": [
            "解壓完成！\n",
            "已成功輸出為 chatgpt_conversations.txt ✅\n"
          ]
        }
      ],
      "source": [
        "import zipfile\n",
        "import json\n",
        "import os\n",
        "\n",
        "# 設定路徑\n",
        "zip_path = \"/content/drive/MyDrive/透過 Chrome 儲存/GPT歷史紀錄.zip\"  # <- 改成你的檔案名稱\n",
        "extract_to = \"./chatgpt_export\"  # 解壓縮目的地\n",
        "\n",
        "# 解壓縮\n",
        "with zipfile.ZipFile(zip_path, 'r') as zip_ref:\n",
        "    zip_ref.extractall(extract_to)\n",
        "\n",
        "print(\"解壓完成！\")\n",
        "\n",
        "# 讀取 conversations.json\n",
        "json_path = os.path.join(extract_to, \"conversations.json\")\n",
        "\n",
        "with open(json_path, 'r', encoding='utf-8') as f:\n",
        "    data = json.load(f)\n",
        "\n",
        "# === 3. 整理成純文字 ===\n",
        "output_lines = []\n",
        "\n",
        "for conv in data:\n",
        "    title = conv.get(\"title\", \"Untitled Conversation\")\n",
        "    output_lines.append(f\"=== Conversation: {title} ===\\n\")\n",
        "\n",
        "    mapping = conv.get(\"mapping\", {})\n",
        "\n",
        "    messages = [\n",
        "        msg for msg in mapping.values()\n",
        "        if msg.get(\"message\") and msg[\"message\"].get(\"create_time\") is not None\n",
        "    ]\n",
        "    messages.sort(key=lambda m: m[\"message\"][\"create_time\"])\n",
        "\n",
        "    for msg in messages:\n",
        "        role = msg[\"message\"][\"author\"][\"role\"]\n",
        "        parts = msg[\"message\"][\"content\"].get(\"parts\", [])\n",
        "        for part in parts:\n",
        "            if isinstance(part, str):\n",
        "                output_lines.append(f\"{role}: {part.strip()}\\n\")\n",
        "            else:\n",
        "                output_lines.append(f\"{role}: {json.dumps(part, ensure_ascii=False)}\\n\")\n",
        "\n",
        "\n",
        "    output_lines.append(\"=\" * 20 + \"\\n\\n\")\n",
        "\n",
        "# === 4. 寫入 TXT 檔 ===\n",
        "with open(\"chatgpt_conversations.txt\", \"w\", encoding=\"utf-8\") as out_file:\n",
        "    out_file.writelines(output_lines)\n",
        "\n",
        "print(\"已成功輸出為 chatgpt_conversations.txt ✅\")\n",
        "\n"
      ]
    },
    {
      "cell_type": "code",
      "source": [
        "!ls"
      ],
      "metadata": {
        "id": "mzTTjTWAvd60",
        "outputId": "62ce8f22-79ba-40c4-c6f4-61109bdd02af",
        "colab": {
          "base_uri": "https://localhost:8080/"
        }
      },
      "execution_count": null,
      "outputs": [
        {
          "output_type": "stream",
          "name": "stdout",
          "text": [
            "chatgpt_conversations.txt  chatgpt_export  drive  sample_data\n"
          ]
        }
      ]
    }
  ]
}